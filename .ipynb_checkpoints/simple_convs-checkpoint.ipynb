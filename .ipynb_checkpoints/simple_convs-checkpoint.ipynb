{
 "cells": [
  {
   "cell_type": "code",
   "execution_count": 2,
   "metadata": {},
   "outputs": [],
   "source": [
    "import numpy as np\n",
    "from scipy.ndimage.filters import convolve\n",
    "from scipy.signal import correlate\n",
    "import matplotlib.pyplot as plt\n",
    "import tensorflow as tf"
   ]
  },
  {
   "cell_type": "code",
   "execution_count": 37,
   "metadata": {},
   "outputs": [],
   "source": [
    "# Constants\n",
    "\n",
    "w = 1\n",
    "b = -1"
   ]
  },
  {
   "cell_type": "code",
   "execution_count": 34,
   "metadata": {},
   "outputs": [],
   "source": [
    "\n",
    "def visualize_conv(input, filter):\n",
    "    output = correlate(input, filter, mode='same')\n",
    "    ratio = input.shape[1] / filter.shape[1]\n",
    "    max_value = np.sum(abs(filter)) * w\n",
    "     \n",
    "    fig, axs = plt.subplots(1, 3, gridspec_kw = dict(width_ratios = [ratio,1,ratio]))\n",
    "    axs[0].matshow(input, cmap=plt.cm.gray)\n",
    "    axs[0].set_title('Input')\n",
    "    axs[0].set_xticks([])\n",
    "    axs[0].set_yticks([])\n",
    "    \n",
    "    axs[1].matshow(filter, cmap=plt.cm.gray)\n",
    "    axs[1].set_title('Filter')\n",
    "    axs[1].set_xticks([])\n",
    "    axs[1].set_yticks([])\n",
    "    \n",
    "    axs[2].matshow(output, cmap=plt.cm.gray, vmin = -max_value, vmax = max_value)\n",
    "    axs[2].set_title('Output')\n",
    "    axs[2].set_xticks([])\n",
    "    axs[2].set_yticks([])\n",
    "    \n",
    "    return output\n",
    "\n"
   ]
  },
  {
   "cell_type": "code",
   "execution_count": 51,
   "metadata": {},
   "outputs": [],
   "source": [
    "# Basic input patterns\n",
    "\n",
    "v_stripes = np.array([[b, w, b, w], \n",
    "                  [b, w, b, w],\n",
    "                  [b, w, b, w],\n",
    "                  [b, w, b, w]])\n",
    "\n",
    "h_stripes = np.array([[b, b, b, b], \n",
    "                  [w, w, w, w],\n",
    "                  [b, b, b, b],\n",
    "                  [w, w, w, w]])\n",
    "\n",
    "checker = np.array([[b, w, b, w],\n",
    "                    [w, b, w, b],\n",
    "                    [b, w, b, w],\n",
    "                    [w, b, w, b]])\n",
    "\n",
    "def get_rand_input(size=4):\n",
    "    return np.random.choice([b,w],(size, size))\n",
    "\n",
    "# basic filters \n",
    "\n",
    "v_edge_22 = np.array([[1, -1],\n",
    "                      [1, -1]])\n",
    "\n",
    "h_edge_22 = np.array([[1, 1],\n",
    "                      [-1, -1]])\n",
    "\n",
    "diag_22 = np.array([[1, -1],\n",
    "                    [-1, 1]])\n",
    "\n",
    "diff_21 = np.array([[1],\n",
    "                   [-1]])\n",
    "\n",
    "same_21 = np.array([[1],\n",
    "                    [1]])\n",
    "\n",
    "v_edge_33 = np.array([[-1, 2, -1],\n",
    "                      [-1, 2, -1],\n",
    "                      [-1, 2, -1]])\n",
    "\n",
    "h_edge_33 = np.array([[-1, -1, -1],\n",
    "                      [2, 2, 2],\n",
    "                      [-1, -1, -1]])\n",
    "\n",
    "\n",
    "def get_rand_filter(dims=(2,2)):\n",
    "    return np.random.choice([1,-1], dims)"
   ]
  },
  {
   "cell_type": "code",
   "execution_count": 132,
   "metadata": {},
   "outputs": [
    {
     "data": {
      "image/png": "[encoded data removed]",
      "text/plain": [
       "<Figure size 432x288 with 3 Axes>"
      ]
     },
     "metadata": {},
     "output_type": "display_data"
    }
   ],
   "source": [
    "output = visualize_conv(v_stripes, v_edge_22)"
   ]
  },
  {
   "cell_type": "code",
   "execution_count": 133,
   "metadata": {},
   "outputs": [
    {
     "data": {
      "image/png": "[encoded data removed]",
      "text/plain": [
       "<Figure size 432x288 with 3 Axes>"
      ]
     },
     "metadata": {},
     "output_type": "display_data"
    }
   ],
   "source": [
    "output = visualize_conv(get_rand_input(), diag_22)"
   ]
  },
  {
   "cell_type": "code",
   "execution_count": 130,
   "metadata": {},
   "outputs": [
    {
     "data": {
      "image/png": "[encoded data removed]",
      "text/plain": [
       "<Figure size 432x288 with 3 Axes>"
      ]
     },
     "metadata": {},
     "output_type": "display_data"
    }
   ],
   "source": [
    "output = visualize_conv(get_rand_input(20), v_edge_33)"
   ]
  },
  {
   "cell_type": "code",
   "execution_count": 52,
   "metadata": {},
   "outputs": [
    {
     "name": "stdout",
     "output_type": "stream",
     "text": [
      "Output: [[1 1 1]\n",
      " [1 2 1]\n",
      " [0 1 1]]\n"
     ]
    },
    {
     "data": {
      "image/png": "[encoded data removed]",
      "text/plain": [
       "<Figure size 432x288 with 3 Axes>"
      ]
     },
     "metadata": {},
     "output_type": "display_data"
    }
   ],
   "source": [
    "output = visualize_conv(get_rand_input(3), diag_22)\n",
    "\n",
    "print(f\"Output: {output}\")"
   ]
  },
  {
   "cell_type": "code",
   "execution_count": 9,
   "metadata": {},
   "outputs": [
    {
     "data": {
      "text/plain": [
       "<matplotlib.image.AxesImage at 0x7fc6d82a7190>"
      ]
     },
     "execution_count": 9,
     "metadata": {},
     "output_type": "execute_result"
    },
    {
     "data": {
      "image/png": "[encoded data removed]",
      "text/plain": [
       "<Figure size 288x288 with 1 Axes>"
      ]
     },
     "metadata": {
      "needs_background": "light"
     },
     "output_type": "display_data"
    }
   ],
   "source": [
    "plt.matshow(get_rand_input(3), cmap = plt.cm.gray, vmin = -4, vmax = 4)"
   ]
  },
  {
   "cell_type": "code",
   "execution_count": 16,
   "metadata": {},
   "outputs": [
    {
     "data": {
      "text/plain": [
       "array([[-1, -1],\n",
       "       [ 1,  1]])"
      ]
     },
     "execution_count": 16,
     "metadata": {},
     "output_type": "execute_result"
    }
   ],
   "source": [
    "mat = get_rand_filter((2,2))\n",
    "mat"
   ]
  },
  {
   "cell_type": "code",
   "execution_count": 18,
   "metadata": {},
   "outputs": [
    {
     "data": {
      "text/plain": [
       "4"
      ]
     },
     "execution_count": 18,
     "metadata": {},
     "output_type": "execute_result"
    }
   ],
   "source": [
    "np.sum(abs(mat))"
   ]
  },
  {
   "cell_type": "code",
   "execution_count": 29,
   "metadata": {},
   "outputs": [],
   "source": [
    "output"
   ]
  },
  {
   "cell_type": "code",
   "execution_count": null,
   "metadata": {},
   "outputs": [],
   "source": []
  }
 ],
 "metadata": {
  "kernelspec": {
   "display_name": "Python 3",
   "language": "python",
   "name": "python3"
  },
  "language_info": {
   "codemirror_mode": {
    "name": "ipython",
    "version": 3
   },
   "file_extension": ".py",
   "mimetype": "text/x-python",
   "name": "python",
   "nbconvert_exporter": "python",
   "pygments_lexer": "ipython3",
   "version": "3.7.4"
  }
 },
 "nbformat": 4,
 "nbformat_minor": 4
}

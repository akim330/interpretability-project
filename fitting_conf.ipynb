{
 "cells": [
  {
   "cell_type": "code",
   "execution_count": 3,
   "metadata": {},
   "outputs": [],
   "source": [
    "import numpy as np\n",
    "from scipy.optimize import minimize\n",
    "\n",
    "# Number of possible values of the AI confidence score vector\n",
    "nj = 3\n",
    "K = 3\n",
    "nalpha = nj * K\n",
    "\n",
    "def objective(alpha, C_H): # Negative log-likelihood\n",
    "    # alpha = [alpha_11, alpha_21, ..., alpha_K1, alpha_12, alpha_22, ..., alpha_K2, ... alpha_1J, alpha_2J, ..., alpha_KJ]\n",
    "    current_j = 0\n",
    "    sum = 0\n",
    "    for Cs in C_H: # each Cs is an array corresponding to an AI confidence score, where each row is the vector of human confidence scores for a data point\n",
    "        # Get alphas relevant to this confidence score, i.e. [alpha_1j, alpha_2j, ..., alpha_Kj]\n",
    "        current_alpha = alpha[(current_j * K):((current_j + 1) * K)]\n",
    "\n",
    "        # Multiply each row of Cs element-wise by alpha\n",
    "        sum += np.sum(np.log(np.sum(current_alpha * Cs, axis=1)))\n",
    "\n",
    "        current_j += 1\n",
    "\n",
    "    return -1 * sum\n",
    "\n",
    "def display_result(result):\n",
    "    # Each column is the distribution over confidence score vectors j given that the correct decision is some particular k\n",
    "    print(np.round(result.x, 2).reshape(nj, K))\n",
    "\n",
    "# Form constraints\n",
    "cons = ()\n",
    "for i in range(nalpha): # Inequalities: all alpha >= 0\n",
    "    cons = cons + (({'type':'ineq', 'fun': lambda alpha, i=i: alpha[i]}),)\n",
    "\n",
    "for k in range(K): # Equalities: all alpha summed over j = 1\n",
    "    cons = cons + (({'type':'eq', 'fun': lambda alpha, k=k: np.sum(alpha[k::3]) - 1}),)\n",
    "\n",
    "# Uniform intialization\n",
    "x0 = np.ones(nalpha) / nj\n"
   ]
  },
  {
   "cell_type": "markdown",
   "metadata": {},
   "source": [
    "Example 1: With only one data point per algorithm confidence score, the human uses their confidence scores to "
   ]
  },
  {
   "cell_type": "code",
   "execution_count": 7,
   "metadata": {},
   "outputs": [
    {
     "name": "stdout",
     "output_type": "stream",
     "text": [
      "[[-0.  1.  0.]\n",
      " [ 1. -0. -0.]\n",
      " [-0.  0.  1.]]\n"
     ]
    }
   ],
   "source": [
    "# Human confidence scores: list of numpy arrays\n",
    "C_H1 = np.array([[0.3, 0.6, 0.1]])\n",
    "C_H2 = np.array([[0.8, 0.1, 0.1]])\n",
    "C_H3 = np.array([[0.1, 0.2, 0.7]])\n",
    "C_H = [C_H1, C_H2, C_H3]\n",
    "\n",
    "# Minimize objective \n",
    "result = minimize(fun=objective, x0=x0, args=(C_H), constraints=cons)\n",
    "\n",
    "display_result(result)"
   ]
  },
  {
   "cell_type": "code",
   "execution_count": 10,
   "metadata": {},
   "outputs": [
    {
     "name": "stdout",
     "output_type": "stream",
     "text": [
      "[[0.33 0.33 0.33]\n",
      " [0.33 0.33 0.33]\n",
      " [0.33 0.33 0.33]]\n"
     ]
    }
   ],
   "source": [
    "# Human confidence scores: list of numpy arrays\n",
    "C_H1 = np.array([[1/3, 1/3, 1/3]])\n",
    "C_H2 = np.array([[1/3, 1/3, 1/3]])\n",
    "C_H3 = np.array([[1/3, 1/3, 1/3]])\n",
    "C_H = [C_H1, C_H2, C_H3]\n",
    "\n",
    "# Minimize objective \n",
    "result = minimize(fun=objective, x0=x0, args=(C_H), constraints=cons)\n",
    "\n",
    "display_result(result)"
   ]
  },
  {
   "cell_type": "code",
   "execution_count": null,
   "metadata": {},
   "outputs": [],
   "source": [
    "# Human confidence scores: list of numpy arrays\n",
    "C_H1 = np.array([[0.3, 0.6, 0.1]])\n",
    "C_H2 = np.array([[0.1, 0.8, 0.1]])\n",
    "C_H3 = np.array([[0.1, 0.2, 0.7]])\n",
    "C_H = [C_H1, C_H2, C_H3]\n",
    "\n",
    "# Minimize objective \n",
    "result = minimize(fun=objective, x0=x0, args=(C_H), constraints=cons)\n",
    "\n",
    "display_result(result)"
   ]
  },
  {
   "cell_type": "code",
   "execution_count": 9,
   "metadata": {},
   "outputs": [
    {
     "name": "stdout",
     "output_type": "stream",
     "text": [
      "[[0.33 0.33 0.33]\n",
      " [0.33 0.33 0.33]\n",
      " [0.33 0.33 0.33]]\n"
     ]
    }
   ],
   "source": [
    "# Human confidence scores: list of numpy arrays\n",
    "C_H1 = np.array([[1/3, 1/3, 1/3]])\n",
    "C_H2 = np.array([[1/3, 1/3, 1/3]])\n",
    "C_H3 = np.array([[1/3, 1/3, 1/3]])\n",
    "C_H = [C_H1, C_H2, C_H3]\n",
    "\n",
    "# Minimize objective \n",
    "result = minimize(fun=objective, x0=x0, args=(C_H), constraints=cons)\n",
    "\n",
    "display_result(result)"
   ]
  },
  {
   "cell_type": "code",
   "execution_count": 4,
   "metadata": {},
   "outputs": [],
   "source": [
    "# Human confidence scores: list of numpy arrays\n",
    "C_H1 = np.array([[0.3, 0.6, 0.1], [0.7, 0.1, 0.2], [0.1, 0.2, 0.7]])\n",
    "C_H2 = np.array([[0.8, 0.1, 0.1], [0.6, 0.3, 0.1], [0.6, 0.1, 0.3]])\n",
    "C_H3 = np.array([[0.1, 0.2, 0.7], [0.2, 0.3, 0.5]])\n",
    "C_H = [C_H1, C_H2, C_H3]\n",
    "\n",
    "# Minimize objective \n",
    "result = minimize(fun=objective, x0=x0, args=(C_H), constraints=cons)\n",
    "\n",
    "display_result(result)"
   ]
  },
  {
   "cell_type": "code",
   "execution_count": 6,
   "metadata": {},
   "outputs": [
    {
     "name": "stdout",
     "output_type": "stream",
     "text": [
      "[[-0.  1.  0.]\n",
      " [ 1. -0. -0.]\n",
      " [-0.  0.  1.]]\n"
     ]
    }
   ],
   "source": [
    "# Human confidence scores: list of numpy arrays\n",
    "C_H1 = np.array([[0.3, 0.6, 0.1]])\n",
    "C_H2 = np.array([[0.8, 0.1, 0.1]])\n",
    "C_H3 = np.array([[0.1, 0.2, 0.7]])\n",
    "C_H = [C_H1, C_H2, C_H3]\n",
    "\n",
    "# Minimize objective \n",
    "result = minimize(fun=objective, x0=x0, args=(C_H), constraints=cons)\n",
    "\n",
    "display_result(result)"
   ]
  },
  {
   "cell_type": "code",
   "execution_count": null,
   "metadata": {},
   "outputs": [],
   "source": []
  }
 ],
 "metadata": {
  "kernelspec": {
   "display_name": "Python 3",
   "language": "python",
   "name": "python3"
  },
  "language_info": {
   "codemirror_mode": {
    "name": "ipython",
    "version": 3
   },
   "file_extension": ".py",
   "mimetype": "text/x-python",
   "name": "python",
   "nbconvert_exporter": "python",
   "pygments_lexer": "ipython3",
   "version": "3.8.5"
  }
 },
 "nbformat": 4,
 "nbformat_minor": 4
}

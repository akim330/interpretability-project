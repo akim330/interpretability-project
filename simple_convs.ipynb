{
 "cells": [
  {
   "cell_type": "code",
   "execution_count": 3,
   "metadata": {},
   "outputs": [],
   "source": [
    "import numpy as np\n",
    "import ast\n",
    "from scipy.ndimage.filters import convolve\n",
    "from scipy.signal import correlate\n",
    "import matplotlib.pyplot as plt\n",
    "import tensorflow as tf"
   ]
  },
  {
   "cell_type": "code",
   "execution_count": 47,
   "metadata": {},
   "outputs": [],
   "source": [
    "# Constants\n",
    "\n",
    "w = 1\n",
    "b = -1"
   ]
  },
  {
   "cell_type": "code",
   "execution_count": 41,
   "metadata": {},
   "outputs": [],
   "source": [
    "def visualize_conv(input, filter, padding=False, full_wb_range=True):\n",
    "    if padding:\n",
    "        mode = 'same'\n",
    "    else:\n",
    "        mode = 'valid'   \n",
    "    \n",
    "    output = correlate(input, filter, mode=mode)\n",
    "    ratio = input.shape[1] / filter.shape[1]\n",
    "    max_value = np.sum(abs(filter)) * w\n",
    "     \n",
    "    fig, axs = plt.subplots(1, 3, gridspec_kw = dict(width_ratios = [ratio,1,ratio]))\n",
    "    axs[0].matshow(input, cmap=plt.cm.gray)\n",
    "    axs[0].set_title('Input')\n",
    "    axs[0].set_xticks([])\n",
    "    axs[0].set_yticks([])\n",
    "    \n",
    "    axs[1].matshow(filter, cmap=plt.cm.gray)\n",
    "    axs[1].set_title('Filter')\n",
    "    axs[1].set_xticks([])\n",
    "    axs[1].set_yticks([])\n",
    "    \n",
    "    if full_wb_range:\n",
    "        axs[2].matshow(output, cmap=plt.cm.gray)\n",
    "    else:\n",
    "        axs[2].matshow(output, cmap=plt.cm.gray, vmin=-max_value, vmax=max_value)\n",
    "    axs[2].set_title('Output')\n",
    "    axs[2].set_xticks([])\n",
    "    axs[2].set_yticks([])\n",
    "    \n",
    "    return output"
   ]
  },
  {
   "cell_type": "code",
   "execution_count": 48,
   "metadata": {},
   "outputs": [],
   "source": [
    "# Basic input patterns\n",
    "\n",
    "v_stripes = np.array([[b, w, b, w], \n",
    "                  [b, w, b, w],\n",
    "                  [b, w, b, w],\n",
    "                  [b, w, b, w]])\n",
    "\n",
    "h_stripes = np.array([[b, b, b, b], \n",
    "                  [w, w, w, w],\n",
    "                  [b, b, b, b],\n",
    "                  [w, w, w, w]])\n",
    "\n",
    "checker = np.array([[b, w, b, w],\n",
    "                    [w, b, w, b],\n",
    "                    [b, w, b, w],\n",
    "                    [w, b, w, b]])\n",
    "\n",
    "def get_rand_input(size=4):\n",
    "    if type(size) == tuple:\n",
    "        dims = size\n",
    "    elif type(size) == int:\n",
    "        dims = (size, size)\n",
    "            \n",
    "    return np.random.choice([b,w],dims)\n",
    "\n",
    "# basic filters \n",
    "\n",
    "v_edge_22 = np.array([[-1, 1],\n",
    "                      [-1, 1]])\n",
    "\n",
    "h_edge_22 = np.array([[-1, -1],\n",
    "                      [1, 1]])\n",
    "\n",
    "diag_22 = np.array([[1, -1],\n",
    "                    [-1, 1]])\n",
    "\n",
    "diff_21 = np.array([[-1],\n",
    "                   [1]])\n",
    "\n",
    "same_21 = np.array([[1],\n",
    "                    [1]])\n",
    "\n",
    "v_edge_33 = np.array([[-1, 2, -1],\n",
    "                      [-1, 2, -1],\n",
    "                      [-1, 2, -1]])\n",
    "\n",
    "h_edge_33 = np.array([[-1, -1, -1],\n",
    "                      [2, 2, 2],\n",
    "                      [-1, -1, -1]])\n",
    "\n",
    "identity_33 = np.array([[0, 0, 0],\n",
    "                        [0, 1, 0],\n",
    "                        [0, 0, 0]])\n",
    "\n",
    "\n",
    "def get_rand_filter(dims=(2,2)):\n",
    "    return np.random.choice([1,-1], dims)"
   ]
  },
  {
   "cell_type": "markdown",
   "metadata": {},
   "source": [
    "## With padding"
   ]
  },
  {
   "cell_type": "code",
   "execution_count": 36,
   "metadata": {},
   "outputs": [
    {
     "data": {
      "image/png": "[encoded data removed]",
      "text/plain": [
       "<Figure size 432x288 with 3 Axes>"
      ]
     },
     "metadata": {},
     "output_type": "display_data"
    }
   ],
   "source": [
    "output = visualize_conv(v_stripes, v_edge_22, padding=True, full_wb_range=True)"
   ]
  },
  {
   "cell_type": "code",
   "execution_count": 37,
   "metadata": {},
   "outputs": [
    {
     "data": {
      "image/png": "[encoded data removed]",
      "text/plain": [
       "<Figure size 432x288 with 3 Axes>"
      ]
     },
     "metadata": {},
     "output_type": "display_data"
    }
   ],
   "source": [
    "output = visualize_conv(get_rand_input(), h_edge_22, padding=True, full_wb_range=True)"
   ]
  },
  {
   "cell_type": "code",
   "execution_count": 38,
   "metadata": {},
   "outputs": [
    {
     "data": {
      "image/png": "[encoded data removed]",
      "text/plain": [
       "<Figure size 432x288 with 3 Axes>"
      ]
     },
     "metadata": {},
     "output_type": "display_data"
    }
   ],
   "source": [
    "output = visualize_conv(get_rand_input(), diag_22, padding=True, full_wb_range=True)"
   ]
  },
  {
   "cell_type": "code",
   "execution_count": 39,
   "metadata": {},
   "outputs": [
    {
     "data": {
      "image/png": "[encoded data removed]",
      "text/plain": [
       "<Figure size 432x288 with 3 Axes>"
      ]
     },
     "metadata": {},
     "output_type": "display_data"
    }
   ],
   "source": [
    "output = visualize_conv(get_rand_input(20), v_edge_33, padding=True, full_wb_range=True)"
   ]
  },
  {
   "cell_type": "code",
   "execution_count": 48,
   "metadata": {},
   "outputs": [
    {
     "data": {
      "image/png": "[encoded data removed]",
      "text/plain": [
       "<Figure size 432x288 with 3 Axes>"
      ]
     },
     "metadata": {},
     "output_type": "display_data"
    }
   ],
   "source": [
    "output = visualize_conv(get_rand_input(4), diff_21, padding=True, full_wb_range=True)"
   ]
  },
  {
   "cell_type": "code",
   "execution_count": 55,
   "metadata": {},
   "outputs": [
    {
     "data": {
      "image/png": "[encoded data removed]",
      "text/plain": [
       "<Figure size 432x288 with 3 Axes>"
      ]
     },
     "metadata": {},
     "output_type": "display_data"
    }
   ],
   "source": [
    "output = visualize_conv(get_rand_input(2), diff_21, padding=True, full_wb_range=True)"
   ]
  },
  {
   "cell_type": "markdown",
   "metadata": {},
   "source": [
    "## Without padding"
   ]
  },
  {
   "cell_type": "code",
   "execution_count": 42,
   "metadata": {},
   "outputs": [
    {
     "data": {
      "image/png": "[encoded data removed]",
      "text/plain": [
       "<Figure size 432x288 with 3 Axes>"
      ]
     },
     "metadata": {},
     "output_type": "display_data"
    }
   ],
   "source": [
    "output = visualize_conv(get_rand_input(2), diff_21, padding=False, full_wb_range=False)"
   ]
  },
  {
   "cell_type": "code",
   "execution_count": 43,
   "metadata": {},
   "outputs": [
    {
     "data": {
      "image/png": "[encoded data removed]",
      "text/plain": [
       "<Figure size 432x288 with 3 Axes>"
      ]
     },
     "metadata": {},
     "output_type": "display_data"
    }
   ],
   "source": [
    "output = visualize_conv(get_rand_input(4), diff_21, padding=False, full_wb_range=False)"
   ]
  },
  {
   "cell_type": "code",
   "execution_count": 57,
   "metadata": {},
   "outputs": [
    {
     "data": {
      "image/png": "[encoded data removed]",
      "text/plain": [
       "<Figure size 432x288 with 3 Axes>"
      ]
     },
     "metadata": {},
     "output_type": "display_data"
    }
   ],
   "source": [
    "output = visualize_conv_no_pad(get_rand_input(4), v_edge_22, padding=False, full_wb_range=False)"
   ]
  },
  {
   "cell_type": "code",
   "execution_count": 51,
   "metadata": {},
   "outputs": [
    {
     "name": "stdout",
     "output_type": "stream",
     "text": [
      "[[-2]\n",
      " [ 0]]\n"
     ]
    },
    {
     "data": {
      "image/png": "[encoded data removed]",
      "text/plain": [
       "<Figure size 432x288 with 3 Axes>"
      ]
     },
     "metadata": {},
     "output_type": "display_data"
    }
   ],
   "source": [
    "output = visualize_conv(get_rand_input((3,1)), diff_21, padding=False, full_wb_range=False)\n",
    "\n",
    "print(output)"
   ]
  },
  {
   "cell_type": "code",
   "execution_count": null,
   "metadata": {},
   "outputs": [],
   "source": []
  }
 ],
 "metadata": {
  "kernelspec": {
   "display_name": "Python 3",
   "language": "python",
   "name": "python3"
  },
  "language_info": {
   "codemirror_mode": {
    "name": "ipython",
    "version": 3
   },
   "file_extension": ".py",
   "mimetype": "text/x-python",
   "name": "python",
   "nbconvert_exporter": "python",
   "pygments_lexer": "ipython3",
   "version": "3.7.4"
  }
 },
 "nbformat": 4,
 "nbformat_minor": 4
}

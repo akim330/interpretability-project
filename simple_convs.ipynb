{
 "cells": [
  {
   "cell_type": "code",
   "execution_count": 1,
   "metadata": {},
   "outputs": [],
   "source": [
    "import numpy as np\n",
    "import ast\n",
    "from scipy.ndimage.filters import convolve\n",
    "from scipy.signal import correlate\n",
    "import matplotlib.pyplot as plt\n",
    "import tensorflow as tf"
   ]
  },
  {
   "cell_type": "code",
   "execution_count": 2,
   "metadata": {},
   "outputs": [],
   "source": [
    "# Constants\n",
    "\n",
    "w = 1\n",
    "b = -1"
   ]
  },
  {
   "cell_type": "code",
   "execution_count": 5,
   "metadata": {},
   "outputs": [
    {
     "name": "stdout",
     "output_type": "stream",
     "text": [
      "[[0 0 0 1]\n",
      " [1 0 1 0]\n",
      " [0 0 0 0]\n",
      " [1 1 1 1]]\n"
     ]
    }
   ],
   "source": [
    "output = np.array([[1,2,3,4],[4,1,4,1],[2,3,1,3],[4,4,4,4]])\n",
    "print((output == 4).astype(int))"
   ]
  },
  {
   "cell_type": "code",
   "execution_count": 7,
   "metadata": {},
   "outputs": [],
   "source": [
    "def visualize_conv(input, filter, padding=False, full_wb_range=True, threshold=False):\n",
    "    if padding:\n",
    "        mode = 'same'\n",
    "    else:\n",
    "        mode = 'valid'   \n",
    "    \n",
    "    output = correlate(input, filter, mode=mode)\n",
    "    ratio = input.shape[0] / filter.shape[0]\n",
    "    max_value = np.sum(abs(filter)) * w\n",
    "    \n",
    "    if threshold:\n",
    "        output = (output == max_value).astype(int)\n",
    "     \n",
    "    fig, axs = plt.subplots(1, 3, gridspec_kw = dict(width_ratios = [ratio,1,ratio]))\n",
    "    axs[0].matshow(input, cmap=plt.cm.gray)\n",
    "    axs[0].set_title('Input')\n",
    "    axs[0].set_xticks([])\n",
    "    axs[0].set_yticks([])\n",
    "    \n",
    "    \n",
    "    axs[1].matshow(filter, cmap=plt.cm.gray, vmin=-1, vmax=1)\n",
    "    axs[1].set_title('Filter')\n",
    "    axs[1].set_xticks([])\n",
    "    axs[1].set_yticks([])\n",
    "    \n",
    "    if full_wb_range:\n",
    "        axs[2].matshow(output, cmap=plt.cm.gray)\n",
    "    else:\n",
    "        axs[2].matshow(output, cmap=plt.cm.gray, vmin=-max_value, vmax=max_value)\n",
    "    axs[2].set_title('Output')\n",
    "    axs[2].set_xticks([])\n",
    "    axs[2].set_yticks([])\n",
    "    \n",
    "    return output\n"
   ]
  },
  {
   "cell_type": "code",
   "execution_count": 22,
   "metadata": {},
   "outputs": [],
   "source": [
    "# Basic input patterns\n",
    "\n",
    "v_stripes = np.array([[b, w, b, w], \n",
    "                  [b, w, b, w],\n",
    "                  [b, w, b, w],\n",
    "                  [b, w, b, w]])\n",
    "\n",
    "h_stripes = np.array([[b, b, b, b], \n",
    "                  [w, w, w, w],\n",
    "                  [b, b, b, b],\n",
    "                  [w, w, w, w]])\n",
    "\n",
    "checker = np.array([[b, w, b, w],\n",
    "                    [w, b, w, b],\n",
    "                    [b, w, b, w],\n",
    "                    [w, b, w, b]])\n",
    "\n",
    "def get_rand_input(size=4):\n",
    "    if type(size) == tuple:\n",
    "        dims = size\n",
    "    elif type(size) == int:\n",
    "        dims = (size, size)\n",
    "        \n",
    "    mat = np.zeros(dims)    \n",
    "            \n",
    "    return np.random.choice([b,w],dims)\n",
    "\n",
    "\n",
    "def get_edged_input(size=4):\n",
    "    if type(size) == tuple:\n",
    "        dims = size\n",
    "    elif type(size) == int:\n",
    "        dims = (size, size)\n",
    "    \n",
    "    which_edge = np.random.choice([0,1,2,3],(int(np.ceil(dims[0])/2), int(np.ceil(dims[1])/2)))\n",
    "    \n",
    "    first_tile = True\n",
    "    \n",
    "    mat = np.zeros(dims)\n",
    "    \n",
    "    for i, j in np.ndindex(dims):\n",
    "        if i % 2 == 0 and j % 2 == 0:\n",
    "            edge = which_edge[int(i / 2), int(j / 2)]\n",
    "            if edge == 0:\n",
    "                # Vertical edge b,w\n",
    "                mat[i][j] = b\n",
    "                mat[i][j+1] = w\n",
    "                mat[i+1][j] = b\n",
    "                mat[i+1][j+1] = w\n",
    "            elif edge == 1:\n",
    "                # Vertical edge w,b\n",
    "                mat[i][j] = w\n",
    "                mat[i][j+1] = b\n",
    "                mat[i+1][j] = w\n",
    "                mat[i+1][j+1] = b\n",
    "            elif edge == 2:\n",
    "                # Horizontal edge w,b\n",
    "                mat[i][j] = w\n",
    "                mat[i][j+1] = w\n",
    "                mat[i+1][j] = b\n",
    "                mat[i+1][j+1] = b\n",
    "            else:\n",
    "                # Horizontal edge w,b\n",
    "                mat[i][j] = b\n",
    "                mat[i][j+1] = b\n",
    "                mat[i+1][j] = w\n",
    "                mat[i+1][j+1] = w\n",
    "                \n",
    "    return mat\n",
    "        \n",
    "# 2x2 filters\n",
    "\n",
    "v_edge_bw_22 = np.array([[-1, 1],\n",
    "                      [-1, 1]])\n",
    "\n",
    "h_edge_bw_22 = np.array([[-1, -1],\n",
    "                      [1, 1]])\n",
    "\n",
    "v_edge_wb_22 = np.array([[1, -1],\n",
    "                      [1, -1]])\n",
    "\n",
    "h_edge_wb_22 = np.array([[1, 1],\n",
    "                      [-1, -1]])\n",
    "\n",
    "diag1_22 = np.array([[1, -1],\n",
    "                    [-1, 1]])\n",
    "\n",
    "diag2_22 = np.array([[-1, 1],\n",
    "                    [1, -1]])\n",
    "\n",
    "corner_black_ul_22 = np.array([[-1, -1],\n",
    "                              [-1, 1]])\n",
    "\n",
    "corner_black_ur_22 = np.array([[-1, -1],\n",
    "                              [1, -1]])\n",
    "\n",
    "corner_black_ll_22 = np.array([[-1, 1],\n",
    "                              [-1, -1]])\n",
    "\n",
    "corner_black_lr_22 = np.array([[1, -1],\n",
    "                              [-1, -1]])\n",
    "\n",
    "corner_white_ul_22 = corner_black_ul_22 * -1\n",
    "corner_white_ur_22 = corner_black_ur_22 * -1\n",
    "corner_white_ll_22 = corner_black_ll_22 * -1\n",
    "corner_white_lr_22 = corner_black_lr_22 * -1\n",
    "\n",
    "# 2x1 filters\n",
    "\n",
    "bw_21 = np.array([[-1],\n",
    "                   [1]])\n",
    "\n",
    "bb_21 = np.array([[-1],\n",
    "                    [-1]])\n",
    "\n",
    "wb_21 = np.array([[1],\n",
    "                [-1]])\n",
    "\n",
    "ww_21 = np.array([[1],\n",
    "                [1]])\n",
    "\n",
    "same_21 = np.array([[-1],\n",
    "                    [-1]])\n",
    "\n",
    "# 3x1 filters\n",
    "\n",
    "www_31 = np.array([[1],\n",
    "                   [1],\n",
    "                   [1]])\n",
    "\n",
    "wwb_31 = np.array([[1],\n",
    "                   [1],\n",
    "                   [-1]])\n",
    "\n",
    "wbw_31 = np.array([[1],\n",
    "                   [-1],\n",
    "                   [1]])\n",
    "\n",
    "bww_31 = np.array([[1],\n",
    "                   [-1],\n",
    "                   [1]])\n",
    "\n",
    "wbb_31 = np.array([[1],\n",
    "                   [-1],\n",
    "                   [-1]])\n",
    "\n",
    "bwb_31 = np.array([[-1],\n",
    "                   [1],\n",
    "                   [-1]])\n",
    "\n",
    "bbw_31 = np.array([[-1],\n",
    "                   [-1],\n",
    "                   [1]])\n",
    "\n",
    "bbb_31 = np.array([[-1],\n",
    "                   [-1],\n",
    "                   [-1]])\n",
    "\n",
    "same_21 = np.array([[-1],\n",
    "                    [-1]])\n",
    "\n",
    "# 3x3 filters\n",
    "\n",
    "v_edge_33 = np.array([[-1, 2, -1],\n",
    "                      [-1, 2, -1],\n",
    "                      [-1, 2, -1]])\n",
    "\n",
    "h_edge_33 = np.array([[-1, -1, -1],\n",
    "                      [2, 2, 2],\n",
    "                      [-1, -1, -1]])\n",
    "\n",
    "identity_33 = np.array([[0, 0, 0],\n",
    "                        [0, 1, 0],\n",
    "                        [0, 0, 0]])\n",
    "\n",
    "\n",
    "def get_rand_filter(dims=(2,2)):\n",
    "    return np.random.choice([1,-1], dims)"
   ]
  },
  {
   "cell_type": "markdown",
   "metadata": {},
   "source": [
    "## With padding"
   ]
  },
  {
   "cell_type": "code",
   "execution_count": 36,
   "metadata": {},
   "outputs": [
    {
     "data": {
      "image/png": "[encoded data removed]",
      "text/plain": [
       "<Figure size 432x288 with 3 Axes>"
      ]
     },
     "metadata": {},
     "output_type": "display_data"
    }
   ],
   "source": [
    "output = visualize_conv(v_stripes, v_edge_22, padding=True, full_wb_range=True)"
   ]
  },
  {
   "cell_type": "code",
   "execution_count": 17,
   "metadata": {},
   "outputs": [
    {
     "data": {
      "image/png": "[encoded data removed]",
      "text/plain": [
       "<Figure size 432x288 with 3 Axes>"
      ]
     },
     "metadata": {},
     "output_type": "display_data"
    }
   ],
   "source": [
    "output = visualize_conv(get_edged_input(), h_edge_22, padding=True, full_wb_range=True)"
   ]
  },
  {
   "cell_type": "code",
   "execution_count": 38,
   "metadata": {},
   "outputs": [
    {
     "data": {
      "image/png": "[encoded data removed]",
      "text/plain": [
       "<Figure size 432x288 with 3 Axes>"
      ]
     },
     "metadata": {},
     "output_type": "display_data"
    }
   ],
   "source": [
    "output = visualize_conv(get_rand_input(), diag_22, padding=True, full_wb_range=True)"
   ]
  },
  {
   "cell_type": "code",
   "execution_count": 39,
   "metadata": {},
   "outputs": [
    {
     "data": {
      "image/png": "[encoded data removed]",
      "text/plain": [
       "<Figure size 432x288 with 3 Axes>"
      ]
     },
     "metadata": {},
     "output_type": "display_data"
    }
   ],
   "source": [
    "output = visualize_conv(get_rand_input(20), v_edge_33, padding=True, full_wb_range=True)"
   ]
  },
  {
   "cell_type": "code",
   "execution_count": 48,
   "metadata": {},
   "outputs": [
    {
     "data": {
      "image/png": "[encoded data removed]",
      "text/plain": [
       "<Figure size 432x288 with 3 Axes>"
      ]
     },
     "metadata": {},
     "output_type": "display_data"
    }
   ],
   "source": [
    "output = visualize_conv(get_rand_input(4), bw_21, padding=True, full_wb_range=True)"
   ]
  },
  {
   "cell_type": "code",
   "execution_count": 55,
   "metadata": {},
   "outputs": [
    {
     "data": {
      "image/png": "[encoded data removed]",
      "text/plain": [
       "<Figure size 432x288 with 3 Axes>"
      ]
     },
     "metadata": {},
     "output_type": "display_data"
    }
   ],
   "source": [
    "output = visualize_conv(get_rand_input(2), bw_21, padding=True, full_wb_range=True)"
   ]
  },
  {
   "cell_type": "markdown",
   "metadata": {},
   "source": [
    "## Without padding"
   ]
  },
  {
   "cell_type": "code",
   "execution_count": 42,
   "metadata": {},
   "outputs": [
    {
     "data": {
      "image/png": "[encoded data removed]",
      "text/plain": [
       "<Figure size 432x288 with 3 Axes>"
      ]
     },
     "metadata": {},
     "output_type": "display_data"
    }
   ],
   "source": [
    "output = visualize_conv(get_rand_input(2), bw_21, padding=False, full_wb_range=False)"
   ]
  },
  {
   "cell_type": "code",
   "execution_count": 43,
   "metadata": {},
   "outputs": [
    {
     "data": {
      "image/png": "[encoded data removed]",
      "text/plain": [
       "<Figure size 432x288 with 3 Axes>"
      ]
     },
     "metadata": {},
     "output_type": "display_data"
    }
   ],
   "source": [
    "output = visualize_conv(get_rand_input(4), bw_21, padding=False, full_wb_range=False)"
   ]
  },
  {
   "cell_type": "code",
   "execution_count": 57,
   "metadata": {},
   "outputs": [
    {
     "data": {
      "image/png": "[encoded data removed]",
      "text/plain": [
       "<Figure size 432x288 with 3 Axes>"
      ]
     },
     "metadata": {},
     "output_type": "display_data"
    }
   ],
   "source": [
    "output = visualize_conv_no_pad(get_rand_input(4), v_edge_22, padding=False, full_wb_range=False)"
   ]
  },
  {
   "cell_type": "code",
   "execution_count": 51,
   "metadata": {},
   "outputs": [
    {
     "name": "stdout",
     "output_type": "stream",
     "text": [
      "[[-2]\n",
      " [ 0]]\n"
     ]
    },
    {
     "data": {
      "image/png": "[encoded data removed]",
      "text/plain": [
       "<Figure size 432x288 with 3 Axes>"
      ]
     },
     "metadata": {},
     "output_type": "display_data"
    }
   ],
   "source": [
    "output = visualize_conv(get_rand_input((3,1)), bw_21, padding=False, full_wb_range=False)\n",
    "\n",
    "print(output)"
   ]
  },
  {
   "cell_type": "markdown",
   "metadata": {},
   "source": [
    "## 1D Input + Filters"
   ]
  },
  {
   "cell_type": "code",
   "execution_count": 89,
   "metadata": {},
   "outputs": [
    {
     "data": {
      "text/plain": [
       "array([[2],\n",
       "       [0],\n",
       "       [0]])"
      ]
     },
     "execution_count": 89,
     "metadata": {},
     "output_type": "execute_result"
    },
    {
     "data": {
      "image/png": "[encoded data removed]",
      "text/plain": [
       "<Figure size 432x288 with 3 Axes>"
      ]
     },
     "metadata": {},
     "output_type": "display_data"
    },
    {
     "data": {
      "image/png": "[encoded data removed]",
      "text/plain": [
       "<Figure size 432x288 with 3 Axes>"
      ]
     },
     "metadata": {},
     "output_type": "display_data"
    },
    {
     "data": {
      "image/png": "[encoded data removed]",
      "text/plain": [
       "<Figure size 432x288 with 3 Axes>"
      ]
     },
     "metadata": {},
     "output_type": "display_data"
    },
    {
     "data": {
      "image/png": "[encoded data removed]",
      "text/plain": [
       "<Figure size 432x288 with 3 Axes>"
      ]
     },
     "metadata": {},
     "output_type": "display_data"
    }
   ],
   "source": [
    "input = get_rand_input((4,1))\n",
    "\n",
    "visualize_conv(input, bw_21, padding=False, full_wb_range=False)\n",
    "\n",
    "visualize_conv(input, bb_21, padding=False, full_wb_range=False)\n",
    "\n",
    "visualize_conv(input, wb_21, padding=False, full_wb_range=False)\n",
    "\n",
    "visualize_conv(input, ww_21, padding=False, full_wb_range=False)"
   ]
  },
  {
   "cell_type": "code",
   "execution_count": 99,
   "metadata": {},
   "outputs": [
    {
     "data": {
      "text/plain": [
       "array([[ 1],\n",
       "       [ 1],\n",
       "       [ 1],\n",
       "       [-1]])"
      ]
     },
     "execution_count": 99,
     "metadata": {},
     "output_type": "execute_result"
    },
    {
     "data": {
      "image/png": "[encoded data removed]",
      "text/plain": [
       "<Figure size 432x288 with 3 Axes>"
      ]
     },
     "metadata": {},
     "output_type": "display_data"
    },
    {
     "data": {
      "image/png": "[encoded data removed]",
      "text/plain": [
       "<Figure size 432x288 with 3 Axes>"
      ]
     },
     "metadata": {},
     "output_type": "display_data"
    },
    {
     "data": {
      "image/png": "[encoded data removed]",
      "text/plain": [
       "<Figure size 432x288 with 3 Axes>"
      ]
     },
     "metadata": {},
     "output_type": "display_data"
    },
    {
     "data": {
      "image/png": "[encoded data removed]",
      "text/plain": [
       "<Figure size 432x288 with 3 Axes>"
      ]
     },
     "metadata": {},
     "output_type": "display_data"
    }
   ],
   "source": [
    "input = get_rand_input((6,1))\n",
    "\n",
    "visualize_conv(input, www_31, padding=False, full_wb_range=False)\n",
    "\n",
    "visualize_conv(input, wwb_31, padding=False, full_wb_range=False)\n",
    "\n",
    "visualize_conv(input, bwb_31, padding=False, full_wb_range=False)\n",
    "\n",
    "visualize_conv(input, bbb_31, padding=False, full_wb_range=False)"
   ]
  },
  {
   "cell_type": "code",
   "execution_count": 100,
   "metadata": {},
   "outputs": [
    {
     "data": {
      "text/plain": [
       "array([[ 1],\n",
       "       [-1]])"
      ]
     },
     "execution_count": 100,
     "metadata": {},
     "output_type": "execute_result"
    },
    {
     "data": {
      "image/png": "[encoded data removed]",
      "text/plain": [
       "<Figure size 432x288 with 3 Axes>"
      ]
     },
     "metadata": {},
     "output_type": "display_data"
    },
    {
     "data": {
      "image/png": "[encoded data removed]",
      "text/plain": [
       "<Figure size 432x288 with 3 Axes>"
      ]
     },
     "metadata": {},
     "output_type": "display_data"
    },
    {
     "data": {
      "image/png": "[encoded data removed]",
      "text/plain": [
       "<Figure size 432x288 with 3 Axes>"
      ]
     },
     "metadata": {},
     "output_type": "display_data"
    },
    {
     "data": {
      "image/png": "[encoded data removed]",
      "text/plain": [
       "<Figure size 432x288 with 3 Axes>"
      ]
     },
     "metadata": {},
     "output_type": "display_data"
    }
   ],
   "source": [
    "input = get_rand_input((4,1))\n",
    "\n",
    "visualize_conv(input, www_31, padding=False, full_wb_range=False)\n",
    "\n",
    "visualize_conv(input, wwb_31, padding=False, full_wb_range=False)\n",
    "\n",
    "visualize_conv(input, bwb_31, padding=False, full_wb_range=False)\n",
    "\n",
    "visualize_conv(input, bbb_31, padding=False, full_wb_range=False)"
   ]
  },
  {
   "cell_type": "markdown",
   "metadata": {},
   "source": [
    "# Edged Input"
   ]
  },
  {
   "cell_type": "code",
   "execution_count": 19,
   "metadata": {},
   "outputs": [
    {
     "data": {
      "text/plain": [
       "array([[ 0.,  2.,  4.],\n",
       "       [ 0.,  0., -2.],\n",
       "       [ 0.,  0.,  0.]])"
      ]
     },
     "execution_count": 19,
     "metadata": {},
     "output_type": "execute_result"
    },
    {
     "data": {
      "image/png": "[encoded data removed]",
      "text/plain": [
       "<Figure size 432x288 with 3 Axes>"
      ]
     },
     "metadata": {},
     "output_type": "display_data"
    },
    {
     "data": {
      "image/png": "[encoded data removed]",
      "text/plain": [
       "<Figure size 432x288 with 3 Axes>"
      ]
     },
     "metadata": {},
     "output_type": "display_data"
    }
   ],
   "source": [
    "input = get_edged_input(4)\n",
    "\n",
    "visualize_conv(input, v_edge_22, padding=False, full_wb_range=False)\n",
    "\n",
    "visualize_conv(input, h_edge_22, padding=False, full_wb_range=False)"
   ]
  },
  {
   "cell_type": "code",
   "execution_count": 20,
   "metadata": {},
   "outputs": [
    {
     "data": {
      "text/plain": [
       "array([[-4., -2.,  0.],\n",
       "       [ 2.,  4.,  0.],\n",
       "       [ 0.,  0.,  0.]])"
      ]
     },
     "execution_count": 20,
     "metadata": {},
     "output_type": "execute_result"
    },
    {
     "data": {
      "image/png": "[encoded data removed]",
      "text/plain": [
       "<Figure size 432x288 with 3 Axes>"
      ]
     },
     "metadata": {},
     "output_type": "display_data"
    },
    {
     "data": {
      "image/png": "[encoded data removed]",
      "text/plain": [
       "<Figure size 432x288 with 3 Axes>"
      ]
     },
     "metadata": {},
     "output_type": "display_data"
    }
   ],
   "source": [
    "input = get_edged_input(4)\n",
    "\n",
    "visualize_conv(input, v_edge_22, padding=False, full_wb_range=False)\n",
    "\n",
    "visualize_conv(input, h_edge_22, padding=False, full_wb_range=False)"
   ]
  },
  {
   "cell_type": "code",
   "execution_count": 25,
   "metadata": {},
   "outputs": [
    {
     "name": "stdout",
     "output_type": "stream",
     "text": [
      "[[ 0.  2.  0.]\n",
      " [ 2.  0. -4.]\n",
      " [ 0.  0.  0.]]\n",
      "[[ 0. -2.  0.]\n",
      " [-2.  0.  4.]\n",
      " [ 0.  0.  0.]]\n"
     ]
    },
    {
     "data": {
      "image/png": "[encoded data removed]",
      "text/plain": [
       "<Figure size 432x288 with 3 Axes>"
      ]
     },
     "metadata": {},
     "output_type": "display_data"
    },
    {
     "data": {
      "image/png": "[encoded data removed]",
      "text/plain": [
       "<Figure size 432x288 with 3 Axes>"
      ]
     },
     "metadata": {},
     "output_type": "display_data"
    }
   ],
   "source": [
    "print(visualize_conv(input, diag1_22, padding=False, full_wb_range=False))\n",
    "\n",
    "print(visualize_conv(input, diag2_22, padding=False, full_wb_range=False))   "
   ]
  },
  {
   "cell_type": "code",
   "execution_count": 34,
   "metadata": {},
   "outputs": [
    {
     "name": "stdout",
     "output_type": "stream",
     "text": [
      "[[ 0.  0.  0.]\n",
      " [ 4. -2.  2.]\n",
      " [ 0. -2.  0.]]\n",
      "[[ 0.  0.  0.]\n",
      " [-4.  2. -2.]\n",
      " [ 0.  2.  0.]]\n"
     ]
    },
    {
     "data": {
      "image/png": "[encoded data removed]",
      "text/plain": [
       "<Figure size 432x288 with 3 Axes>"
      ]
     },
     "metadata": {},
     "output_type": "display_data"
    },
    {
     "data": {
      "image/png": "[encoded data removed]",
      "text/plain": [
       "<Figure size 432x288 with 3 Axes>"
      ]
     },
     "metadata": {},
     "output_type": "display_data"
    }
   ],
   "source": [
    "input = get_edged_input(4)\n",
    "\n",
    "print(visualize_conv(input, diag1_22, padding=False, full_wb_range=False))\n",
    "\n",
    "print(visualize_conv(input, diag2_22, padding=False, full_wb_range=False))   "
   ]
  },
  {
   "cell_type": "code",
   "execution_count": 33,
   "metadata": {},
   "outputs": [
    {
     "data": {
      "text/plain": [
       "array([[ 0.,  0.,  0.],\n",
       "       [-2.,  0.,  2.],\n",
       "       [ 4.,  0., -4.]])"
      ]
     },
     "execution_count": 33,
     "metadata": {},
     "output_type": "execute_result"
    },
    {
     "data": {
      "image/png": "[encoded data removed]",
      "text/plain": [
       "<Figure size 432x288 with 3 Axes>"
      ]
     },
     "metadata": {},
     "output_type": "display_data"
    },
    {
     "data": {
      "image/png": "[encoded data removed]",
      "text/plain": [
       "<Figure size 432x288 with 3 Axes>"
      ]
     },
     "metadata": {},
     "output_type": "display_data"
    }
   ],
   "source": [
    "input = get_edged_input(4)\n",
    "\n",
    "visualize_conv(input, v_edge_22, padding=False, full_wb_range=False)\n",
    "\n",
    "visualize_conv(input, h_edge_22, padding=False, full_wb_range=False)"
   ]
  },
  {
   "cell_type": "markdown",
   "metadata": {},
   "source": [
    "## With Threshold"
   ]
  },
  {
   "cell_type": "code",
   "execution_count": 19,
   "metadata": {},
   "outputs": [
    {
     "data": {
      "text/plain": [
       "array([[0, 0, 1],\n",
       "       [0, 0, 0],\n",
       "       [0, 0, 0]])"
      ]
     },
     "execution_count": 19,
     "metadata": {},
     "output_type": "execute_result"
    },
    {
     "data": {
      "image/png": "[encoded data removed]",
      "text/plain": [
       "<Figure size 432x288 with 3 Axes>"
      ]
     },
     "metadata": {},
     "output_type": "display_data"
    },
    {
     "data": {
      "image/png": "[encoded data removed]",
      "text/plain": [
       "<Figure size 432x288 with 3 Axes>"
      ]
     },
     "metadata": {},
     "output_type": "display_data"
    }
   ],
   "source": [
    "input = get_edged_input(4)\n",
    "\n",
    "visualize_conv(input, v_edge_bw_22, threshold=True)\n",
    "visualize_conv(input, h_edge_wb_22, threshold=True)"
   ]
  },
  {
   "cell_type": "code",
   "execution_count": 20,
   "metadata": {},
   "outputs": [
    {
     "data": {
      "text/plain": [
       "array([[0, 0, 0],\n",
       "       [0, 0, 0],\n",
       "       [0, 0, 0]])"
      ]
     },
     "execution_count": 20,
     "metadata": {},
     "output_type": "execute_result"
    },
    {
     "data": {
      "image/png": "[encoded data removed]",
      "text/plain": [
       "<Figure size 432x288 with 3 Axes>"
      ]
     },
     "metadata": {},
     "output_type": "display_data"
    },
    {
     "data": {
      "image/png": "[encoded data removed]",
      "text/plain": [
       "<Figure size 432x288 with 3 Axes>"
      ]
     },
     "metadata": {},
     "output_type": "display_data"
    },
    {
     "data": {
      "image/png": "[encoded data removed]",
      "text/plain": [
       "<Figure size 432x288 with 3 Axes>"
      ]
     },
     "metadata": {},
     "output_type": "display_data"
    },
    {
     "data": {
      "image/png": "[encoded data removed]",
      "text/plain": [
       "<Figure size 432x288 with 3 Axes>"
      ]
     },
     "metadata": {},
     "output_type": "display_data"
    }
   ],
   "source": [
    "visualize_conv(input, v_edge_bw_22, threshold=True)\n",
    "visualize_conv(input, h_edge_wb_22, threshold=True)\n",
    "visualize_conv(input, v_edge_wb_22, threshold=True)\n",
    "visualize_conv(input, h_edge_bw_22, threshold=True)"
   ]
  },
  {
   "cell_type": "code",
   "execution_count": 21,
   "metadata": {},
   "outputs": [
    {
     "data": {
      "text/plain": [
       "array([[0, 0, 0],\n",
       "       [0, 0, 0],\n",
       "       [0, 0, 0]])"
      ]
     },
     "execution_count": 21,
     "metadata": {},
     "output_type": "execute_result"
    },
    {
     "data": {
      "image/png": "[encoded data removed]",
      "text/plain": [
       "<Figure size 432x288 with 3 Axes>"
      ]
     },
     "metadata": {},
     "output_type": "display_data"
    },
    {
     "data": {
      "image/png": "[encoded data removed]",
      "text/plain": [
       "<Figure size 432x288 with 3 Axes>"
      ]
     },
     "metadata": {},
     "output_type": "display_data"
    }
   ],
   "source": [
    "visualize_conv(input, diag1_22, threshold=True)\n",
    "visualize_conv(input, diag2_22, threshold=True)"
   ]
  },
  {
   "cell_type": "code",
   "execution_count": 23,
   "metadata": {},
   "outputs": [
    {
     "data": {
      "text/plain": [
       "array([[0, 0, 0],\n",
       "       [0, 0, 0],\n",
       "       [0, 0, 0]])"
      ]
     },
     "execution_count": 23,
     "metadata": {},
     "output_type": "execute_result"
    },
    {
     "data": {
      "image/png": "[encoded data removed]",
      "text/plain": [
       "<Figure size 432x288 with 3 Axes>"
      ]
     },
     "metadata": {},
     "output_type": "display_data"
    },
    {
     "data": {
      "image/png": "[encoded data removed]",
      "text/plain": [
       "<Figure size 432x288 with 3 Axes>"
      ]
     },
     "metadata": {},
     "output_type": "display_data"
    },
    {
     "data": {
      "image/png": "[encoded data removed]",
      "text/plain": [
       "<Figure size 432x288 with 3 Axes>"
      ]
     },
     "metadata": {},
     "output_type": "display_data"
    },
    {
     "data": {
      "image/png": "[encoded data removed]",
      "text/plain": [
       "<Figure size 432x288 with 3 Axes>"
      ]
     },
     "metadata": {},
     "output_type": "display_data"
    }
   ],
   "source": [
    "visualize_conv(input, corner_black_ul_22, threshold=True)\n",
    "visualize_conv(input, corner_black_ur_22, threshold=True)\n",
    "visualize_conv(input, corner_black_ll_22, threshold=True)\n",
    "visualize_conv(input, corner_black_lr_22, threshold=True)"
   ]
  },
  {
   "cell_type": "code",
   "execution_count": null,
   "metadata": {},
   "outputs": [],
   "source": []
  }
 ],
 "metadata": {
  "kernelspec": {
   "display_name": "Python 3",
   "language": "python",
   "name": "python3"
  },
  "language_info": {
   "codemirror_mode": {
    "name": "ipython",
    "version": 3
   },
   "file_extension": ".py",
   "mimetype": "text/x-python",
   "name": "python",
   "nbconvert_exporter": "python",
   "pygments_lexer": "ipython3",
   "version": "3.7.4"
  }
 },
 "nbformat": 4,
 "nbformat_minor": 4
}

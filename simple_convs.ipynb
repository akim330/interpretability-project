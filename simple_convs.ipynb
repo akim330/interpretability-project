{
 "cells": [
  {
   "cell_type": "code",
   "execution_count": 3,
   "metadata": {},
   "outputs": [],
   "source": [
    "import numpy as np\n",
    "from scipy.ndimage.filters import convolve\n",
    "from scipy.signal import correlate\n",
    "import matplotlib.pyplot as plt\n",
    "import tensorflow as tf"
   ]
  },
  {
   "cell_type": "code",
   "execution_count": 4,
   "metadata": {},
   "outputs": [],
   "source": [
    "# Constants\n",
    "\n",
    "w = 255\n",
    "b = 0"
   ]
  },
  {
   "cell_type": "code",
   "execution_count": 11,
   "metadata": {},
   "outputs": [],
   "source": [
    "\n",
    "def visualize_conv(input, filter):\n",
    "    output = correlate(input, filter, mode='same')\n",
    "    ratio = input.shape[1] / filter.shape[1]\n",
    "    # max_value = np.sum(abs(filter)) * w\n",
    "     \n",
    "    fig, axs = plt.subplots(1, 3, gridspec_kw = dict(width_ratios = [ratio,1,ratio]))\n",
    "    axs[0].matshow(input, cmap=plt.cm.gray)\n",
    "    axs[0].set_title('Input')\n",
    "    axs[0].set_xticks([])\n",
    "    axs[0].set_yticks([])\n",
    "    \n",
    "    axs[1].matshow(filter, cmap=plt.cm.gray)\n",
    "    axs[1].set_title('Filter')\n",
    "    axs[1].set_xticks([])\n",
    "    axs[1].set_yticks([])\n",
    "    \n",
    "    axs[2].matshow(output, cmap=plt.cm.gray)\n",
    "    axs[2].set_title('Output')\n",
    "    axs[2].set_xticks([])\n",
    "    axs[2].set_yticks([])\n",
    "    \n",
    "    return output\n",
    "\n"
   ]
  },
  {
   "cell_type": "code",
   "execution_count": 6,
   "metadata": {},
   "outputs": [],
   "source": [
    "# Basic input patterns\n",
    "\n",
    "v_stripes = np.array([[b, w, b, w], \n",
    "                  [b, w, b, w],\n",
    "                  [b, w, b, w],\n",
    "                  [b, w, b, w]])\n",
    "\n",
    "h_stripes = np.array([[b, b, b, b], \n",
    "                  [w, w, w, w],\n",
    "                  [b, b, b, b],\n",
    "                  [w, w, w, w]])\n",
    "\n",
    "checker = np.array([[b, w, b, w],\n",
    "                    [w, b, w, b],\n",
    "                    [b, w, b, w],\n",
    "                    [w, b, w, b]])\n",
    "\n",
    "def get_rand_input(size=4):\n",
    "    return np.random.choice([b,w],(size, size))\n",
    "\n",
    "# basic filters \n",
    "\n",
    "v_edge_22 = np.array([[1, -1],\n",
    "                      [1, -1]])\n",
    "\n",
    "h_edge_22 = np.array([[1, 1],\n",
    "                      [-1, -1]])\n",
    "\n",
    "diag_22 = np.array([[1, -1],\n",
    "                    [-1, 1]])\n",
    "\n",
    "diff_21 = np.array([[1],\n",
    "                   [-1]])\n",
    "\n",
    "same_21 = np.array([[1],\n",
    "                    [1]])\n",
    "\n",
    "v_edge_33 = np.array([[-1, 2, -1],\n",
    "                      [-1, 2, -1],\n",
    "                      [-1, 2, -1]])\n",
    "\n",
    "h_edge_33 = np.array([[-1, -1, -1],\n",
    "                      [2, 2, 2],\n",
    "                      [-1, -1, -1]])\n",
    "\n",
    "\n",
    "def get_rand_filter(dims=(2,2)):\n",
    "    return np.random.choice([1,-1], dims)"
   ]
  },
  {
   "cell_type": "code",
   "execution_count": 12,
   "metadata": {},
   "outputs": [
    {
     "data": {
      "image/png": "[encoded data removed]",
      "text/plain": [
       "<Figure size 432x288 with 3 Axes>"
      ]
     },
     "metadata": {},
     "output_type": "display_data"
    }
   ],
   "source": [
    "output = visualize_conv(v_stripes, v_edge_22)"
   ]
  },
  {
   "cell_type": "code",
   "execution_count": 13,
   "metadata": {},
   "outputs": [
    {
     "data": {
      "image/png": "[encoded data removed]",
      "text/plain": [
       "<Figure size 432x288 with 3 Axes>"
      ]
     },
     "metadata": {},
     "output_type": "display_data"
    }
   ],
   "source": [
    "output = visualize_conv(get_rand_input(), diag_22)"
   ]
  },
  {
   "cell_type": "code",
   "execution_count": 14,
   "metadata": {},
   "outputs": [
    {
     "data": {
      "image/png": "[encoded data removed]",
      "text/plain": [
       "<Figure size 432x288 with 3 Axes>"
      ]
     },
     "metadata": {},
     "output_type": "display_data"
    }
   ],
   "source": [
    "output = visualize_conv(get_rand_input(20), v_edge_33)"
   ]
  },
  {
   "cell_type": "code",
   "execution_count": 15,
   "metadata": {},
   "outputs": [
    {
     "name": "stdout",
     "output_type": "stream",
     "text": [
      "Output: [[ 255 -255    0  255]\n",
      " [   0  255    0 -255]\n",
      " [   0 -255  255 -255]\n",
      " [   0    0 -255  255]]\n"
     ]
    },
    {
     "data": {
      "image/png": "[encoded data removed]",
      "text/plain": [
       "<Figure size 432x288 with 3 Axes>"
      ]
     },
     "metadata": {},
     "output_type": "display_data"
    }
   ],
   "source": [
    "output = visualize_conv(get_rand_input(4), diag_22)\n",
    "\n",
    "print(f\"Output: {output}\")"
   ]
  },
  {
   "cell_type": "code",
   "execution_count": null,
   "metadata": {},
   "outputs": [],
   "source": []
  }
 ],
 "metadata": {
  "kernelspec": {
   "display_name": "Python 3",
   "language": "python",
   "name": "python3"
  },
  "language_info": {
   "codemirror_mode": {
    "name": "ipython",
    "version": 3
   },
   "file_extension": ".py",
   "mimetype": "text/x-python",
   "name": "python",
   "nbconvert_exporter": "python",
   "pygments_lexer": "ipython3",
   "version": "3.7.4"
  }
 },
 "nbformat": 4,
 "nbformat_minor": 4
}
